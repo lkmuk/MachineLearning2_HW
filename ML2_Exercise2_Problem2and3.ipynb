{
 "cells": [
  {
   "cell_type": "code",
   "execution_count": 1,
   "metadata": {},
   "outputs": [],
   "source": [
    "import numpy as np\n",
    "\n",
    "import matplotlib.pyplot as plt\n",
    "%matplotlib inline\n"
   ]
  },
  {
   "cell_type": "markdown",
   "metadata": {},
   "source": [
    "# Generate fake data sets\n",
    "(used in both q2 and q3)"
   ]
  },
  {
   "cell_type": "code",
   "execution_count": 14,
   "metadata": {},
   "outputs": [],
   "source": [
    "class ds_hw2: \n",
    "    \"\"\"\n",
    "    dataset with binary class-conditional gaussian distribution\n",
    "    (with equal covariance for both class)\n",
    "    \"\"\"\n",
    "    def __init__(self,numSamplesClassPlus = 10, numSamplesClassNeg = 10, \\\n",
    "                 mean_plus= np.array([-0.7, 0]),\\\n",
    "                 mean_neg = np.array([0.7, 0]), \\\n",
    "                 cov = np.array([[1, 1], [1, 2]])\\\n",
    "                ):\n",
    "        self.mean_plus = mean_plus\n",
    "        self.mean_neg = mean_neg\n",
    "        self.cov = cov\n",
    "        \n",
    "        self.numSamplesClassPlus = numSamplesClassPlus\n",
    "        self.numSamplesClassNeg= numSamplesClassNeg\n",
    "        # generate the data\n",
    "        rng = np.random.default_rng(32345)\n",
    "        self.X_plus = rng.multivariate_normal(mean_plus, cov, numSamplesClassPlus)\n",
    "        self.X_neg  = rng.multivariate_normal(mean_neg, cov, numSamplesClassNeg)\n",
    "    def get_truth_para(self):\n",
    "        return [self.mean_plus,self.mean_neg,self.cov,self.cov]\n",
    "    def get_X_splitted(self):\n",
    "        \"\"\"\n",
    "        returns a concatenated list, first class \"plus\" then \"neg\"\n",
    "        \"\"\"\n",
    "        return [self.X_plus,self.X_neg]\n",
    "    def get_X_merged(self):\n",
    "        return np.concatenate([self.X_plus,self.X_neg],axis=0)\n",
    "    def get_y_merged(self):\n",
    "        return np.array([*[1]*self.numSamplesClassPlus, *[-1]*self.numSamplesClassNeg],dtype=np.int)\n",
    "    def reportAccuracy(self, y_pred_merged,verbose=False): \n",
    "        \"\"\"\n",
    "        compare your prediction with the truth\n",
    "        \"\"\"\n",
    "        if verbose:\n",
    "            print(y_pred_merged)\n",
    "            print(self.get_y_merged())\n",
    "        isCorrect = np.equal(y_pred_merged,self.get_y_merged())\n",
    "\n",
    "        accuracy_overall = np.mean(isCorrect)\n",
    "        numSamplesTot = self.numSamplesClassPlus+self.numSamplesClassNeg\n",
    "        print(\"   the (training) accuracy for this model with {:4d} samples is: \".format(numSamplesTot),\\\n",
    "                  \"{:.3f} (overall)\".format(accuracy_overall) \n",
    "             )\n",
    "        return accuracy_overall\n",
    "    def genDictForStan(self):\n",
    "        return {'N_po': self.numSamplesClassPlus, 'N_ng': self.numSamplesClassNeg,\\\n",
    "        'Dim': 2, 'x_po': self.X_plus, 'x_ng': self.X_neg}"
   ]
  },
  {
   "cell_type": "code",
   "execution_count": 15,
   "metadata": {},
   "outputs": [],
   "source": [
    "ds10 = ds_hw2(10,10)\n",
    "# print(ds10.get_X_merged())\n",
    "# ds10.reportAccuracy(np.concatenate([np.array([1]*10),np.array([-1]*10)],axis=0))\n",
    "ds100 = ds_hw2(100,100)\n",
    "ds = [ds10,ds100]"
   ]
  },
  {
   "cell_type": "markdown",
   "metadata": {},
   "source": [
    "# Problem 2 (native Python implementation of QDA/LDA)"
   ]
  },
  {
   "cell_type": "code",
   "execution_count": 4,
   "metadata": {},
   "outputs": [],
   "source": [
    "class QDA_bin_2D: \n",
    "    \"\"\"\n",
    "    a generative binary classifier QDA in R^2 (including LDA as a special case)\n",
    "    \"\"\"\n",
    "    \n",
    "    def __init__(self,\\\n",
    "                 mean_plus=None, mean_neg=None,\\\n",
    "                 cov_plus =None, cov_neg =None,\\\n",
    "                 pi_plus = 0.5\n",
    "                ):\n",
    "        \"\"\"\n",
    "        inputs:\n",
    "        ---------------\n",
    "        mean_plus:  2-array (optional)\n",
    "            the mean of class \"plus\" in R^2\n",
    "        mean_neg:   2-array (optional)\n",
    "            the mean of class \"neg\" in R^2\n",
    "        cov_plus:   2x2-array (optional)\n",
    "            the covariance matrix of the likelihood of class \"plus\"\n",
    "            (should be positively definite, shall be symmetric)\n",
    "        cov_neg:    2x2-array (optional)\n",
    "            the covariance matrix of the likelihood of class \"neg\"\n",
    "            (should be positively definite, shall be symmetric)\n",
    "        pi_plus:    real (optional)\n",
    "            the prior probability of class \"plus\"\n",
    "            (should be within 0 and 1)\n",
    "        \"\"\"\n",
    "        # -------------------------------\n",
    "        # about the likelihood function\n",
    "        # ------------------------------\n",
    "        self.mean_plus = mean_plus\n",
    "        self.mean_neg = mean_neg\n",
    "        self.cov_plus = cov_plus \n",
    "        self.cov_neg = cov_neg\n",
    "        \n",
    "        # ------------------------------\n",
    "        # about the prior\n",
    "        # ------------------------------\n",
    "        self.pi_plus = pi_plus\n",
    "\n",
    "    def fit(self,X,y,mean_plus=None,mean_neg=None,cov_plus=None, cov_neg=None,verbose=False):\n",
    "        \"\"\"\n",
    "        fit the parameters with MLE given N i.i.d. samples,\n",
    "        at the same time a setter method\n",
    "        \n",
    "        inputs\n",
    "        ---------------------------\n",
    "        X:   Nx2 array\n",
    "            each row corresponds to the coordinate of a sample\n",
    "        y:   N array\n",
    "            each element shall be either 1 (considered as class \"plus\") \n",
    "            or -1 (considered as class \"negative\")\n",
    "        \"\"\"\n",
    "        if verbose:\n",
    "            print(\"before fitting:...\")\n",
    "            self.printPara()\n",
    "        \n",
    "        # Seperate data into two classes\n",
    "        X_plus = X[y == 1]\n",
    "        X_neg = X[y == -1]\n",
    "        \n",
    "        # the Maximum Likelihood estimates\n",
    "        if mean_plus is None:\n",
    "            self.mean_plus = np.mean(X_plus, axis=0) \n",
    "        else:\n",
    "            self.mean_plus = mean_plus\n",
    "        if mean_neg is None:\n",
    "            self.mean_neg = np.mean(X_neg, axis=0) \n",
    "        else:\n",
    "            self.mean_neg = mean_neg\n",
    "        if cov_plus is None:\n",
    "            self.cov_plus = np.matmul((X_plus-self.mean_plus).T, X_plus-self.mean_plus) / X_plus.shape[0]\n",
    "        else:\n",
    "            self.cov_plus = cov_plus\n",
    "        if cov_neg is None:\n",
    "            self.cov_neg  = np.matmul((X_neg-self.mean_neg).T, X_neg-self.mean_neg) / X_neg.shape[0]\n",
    "        else:\n",
    "            self.cov_neg = cov_neg\n",
    "        \n",
    "        # Prior \"fit\" using MLE\n",
    "        self.pi_plus = X_plus.shape[0] / (X.shape[0]) \n",
    "        \n",
    "        if verbose:\n",
    "            print(\"after fitting:...\")\n",
    "            self.printPara()\n",
    "            print(\" with the following discriminate parameters\")\n",
    "            print(self.calcDiscrm())\n",
    "    def printPara(self):\n",
    "        print(\" mean_plus:\")\n",
    "        print(self.mean_plus)\n",
    "        print(\" mean_neg:\")\n",
    "        print(self.mean_neg)\n",
    "        print(\" covariance matrix of class plus:\")\n",
    "        print(self.cov_plus)\n",
    "        print(\" covariance matrix of class neg:\")\n",
    "        print(self.cov_neg)\n",
    "        print(\" prior of class plus:\")\n",
    "        print(self.pi_plus)\n",
    "    def calcDiscrm(self, verbose = False):\n",
    "        \"\"\"\n",
    "        calculate the decision discriminant parameters A,b,c\n",
    "        if x'Ax + b'x + c > 0, then the model predicts x belongs to class\n",
    "        \n",
    "        returns\n",
    "        -------------------------\n",
    "        A:  2x2 (symmetric)\n",
    "        \n",
    "        see also\n",
    "        ------------------\n",
    "        QDA_bin_2D.predict\n",
    "        \n",
    "        \"\"\"\n",
    "        # precision matrix (the inverse of the respective covariance matrix)\n",
    "        covariance_plus_inv = np.linalg.inv(self.cov_plus)\n",
    "        covariance_minus_inv = np.linalg.inv(self.cov_neg)\n",
    "        # A, b, c\n",
    "        A = covariance_minus_inv - covariance_plus_inv\n",
    "        b = 2*(self.mean_plus@covariance_plus_inv - self.mean_neg@covariance_minus_inv)\n",
    "        c = self.mean_neg@covariance_minus_inv@self.mean_neg \\\n",
    "            - self.mean_plus@covariance_plus_inv@self.mean_plus \\\n",
    "            -2*(np.log((1-self.pi_plus)*np.sqrt(np.linalg.det(self.cov_plus))) \\\n",
    "                   - np.log(self.pi_plus*np.sqrt(np.linalg.det(self.cov_neg)))\\\n",
    "               )\n",
    "        if verbose:\n",
    "            print(\"A:\", A)\n",
    "            print(\"b:\", b)\n",
    "            print(\"c:\", c)\n",
    "        return A,b,c\n",
    "        \n",
    "    def predict(self,X):\n",
    "        \"\"\"\n",
    "        classify/ predict the class of N input(s)\n",
    "        \n",
    "        inputs\n",
    "        ---------------------------\n",
    "        X:   Nx2 array\n",
    "            each row corresponds to the coordinate of a sample\n",
    "        \n",
    "        returns\n",
    "        --------------------------\n",
    "        y_hat:   N array\n",
    "            each element will be \n",
    "            either 1 (considered as class \"plus\") \n",
    "            or -1 (considered as class \"negative\")\n",
    "        \"\"\"\n",
    "        # print(\"---------- Start Predicting... ----------\")\n",
    "        A,b,c = self.calcDiscrm()\n",
    "        y_hat = np.zeros(X.shape[0],dtype=np.int)\n",
    "        #print(x.shape)\n",
    "        for i in range(X.shape[0]):\n",
    "            y_hat[i] = np.sign(X[i]@A@X[i].T + X[i]@b + c)\n",
    "        return y_hat"
   ]
  },
  {
   "cell_type": "markdown",
   "metadata": {},
   "source": [
    "## Task 2c --- LDA with cheating (with plots)\n",
    "cheating in the sense: we do not use any estimates but the \"true\" parameters that generates the data\n",
    "\n",
    "note: we do not use the \"fit\" method at all..."
   ]
  },
  {
   "cell_type": "markdown",
   "metadata": {},
   "source": [
    "### Plotting functions (needed for task 2c)"
   ]
  },
  {
   "cell_type": "code",
   "execution_count": 17,
   "metadata": {
    "scrolled": true
   },
   "outputs": [],
   "source": [
    "def plot_samples(axes, x_plus, x_minus):\n",
    "    axes.scatter(x_plus[:,0], x_plus[:,1], marker='o', color='#99d594', label='$class +$')\n",
    "    axes.scatter(x_minus[:, 0], x_minus[:, 1], marker='x', color='firebrick', label='$class -$')\n",
    "    axes.grid(linestyle='--')\n",
    "    axes.set_title(str(x_plus.shape[0]*2) + \" samples in total\")\n",
    "    axes.legend(loc = 'upper left')\n",
    "    axes.set_xlabel('$x_1$',fontsize=\"large\")\n",
    "    axes.set_ylabel('$x_2$',fontsize=\"large\")\n",
    "def plot_boundary(axes, w, b):\n",
    "    \"\"\"\n",
    "    this Ad-hoc implementation only permits LDA (assuming the decision boundary not being a straight line)\n",
    "    \"\"\"\n",
    "    a = -w[0]/w[1]\n",
    "    b = -b/w[1]\n",
    "    \n",
    "    min_x, max_x, min_y, max_y = axes.axis()\n",
    "    axes.axis([min_x, max_x, min_y, max_y])\n",
    "    line_x = np.array([min_x, max_x])\n",
    "    line_y = a*line_x+b\n",
    "    axes.plot(line_x, line_y, linestyle='--', color='y', label='LDA decision surface')"
   ]
  },
  {
   "cell_type": "code",
   "execution_count": 18,
   "metadata": {},
   "outputs": [
    {
     "name": "stdout",
     "output_type": "stream",
     "text": [
      "=================================\n",
      "  Task 2c:  LDA (cheating mode)\n",
      "   the (training) accuracy for this model with   20 samples is:  0.900 (overall)\n",
      "     note: the plot of the data & the decision surface can be inspected from the figure below:\n",
      "   the (training) accuracy for this model with  200 samples is:  0.860 (overall)\n",
      "     note: the plot of the data & the decision surface can be inspected from the figure below:\n"
     ]
    },
    {
     "data": {
      "image/png": "[encoded data removed]",
      "text/plain": [
       "<Figure size 864x432 with 2 Axes>"
      ]
     },
     "metadata": {
      "needs_background": "light"
     },
     "output_type": "display_data"
    }
   ],
   "source": [
    "print(\"=================================\")\n",
    "print(\"  Task 2c:  LDA (cheating mode)\")\n",
    "\n",
    "fig, axesList = plt.subplots(1, 2, figsize=(12,6) ,sharex='all', sharey='all')\n",
    "\n",
    "for data, subplotaxis in zip(ds,axesList):\n",
    "    clf = QDA_bin_2D(*data.get_truth_para()) # LDA !!!\n",
    "    # by cheating, there is no need to \"tune\" !!!\n",
    "    y_hat = clf.predict(data.get_X_merged())\n",
    "    data.reportAccuracy(y_hat,verbose=False)\n",
    "    print(\"     note: the plot of the data & the decision surface can be inspected from the figure below:\")\n",
    "    \n",
    "    # plot the samples on the corresponding subplot\n",
    "    plot_samples(subplotaxis, *data.get_X_splitted())\n",
    "    # plot the decision boundary of the QDA\n",
    "    _, b,c = clf.calcDiscrm(); \n",
    "    plot_boundary(subplotaxis, b, c)\n",
    "\n",
    "plt.savefig('Ex2_Task2c_plot_LDA.pdf')"
   ]
  },
  {
   "cell_type": "markdown",
   "metadata": {},
   "source": [
    "## Task 2d --- QDA with some cheating\n",
    "cheating in the sense: we do not use the MLE for the mean but the \"true\" parameters that generates the data\n",
    "(but the covariance parameters have to be estimated by MLE)"
   ]
  },
  {
   "cell_type": "code",
   "execution_count": 19,
   "metadata": {},
   "outputs": [
    {
     "name": "stdout",
     "output_type": "stream",
     "text": [
      "=================================\n",
      "  Task 2d:  QDA (cheating on mean)\n",
      "   the (training) accuracy for this model with   20 samples is:  0.850 (overall)\n",
      "   the (training) accuracy for this model with  200 samples is:  0.850 (overall)\n"
     ]
    }
   ],
   "source": [
    "print(\"=================================\")\n",
    "print(\"  Task 2d:  QDA (cheating on mean)\")\n",
    "\n",
    "for data, subplotaxis in zip(ds,axesList):\n",
    "    clf = QDA_bin_2D()\n",
    "    X = data.get_X_merged()\n",
    "    y = data.get_y_merged()\n",
    "    clf.fit(X,y, *data.get_truth_para()[:2])\n",
    "    y_hat = clf.predict(X)\n",
    "    data.reportAccuracy(y_hat)"
   ]
  },
  {
   "cell_type": "markdown",
   "metadata": {},
   "source": [
    "## Task 2e --- QDA without cheating"
   ]
  },
  {
   "cell_type": "code",
   "execution_count": 20,
   "metadata": {},
   "outputs": [
    {
     "name": "stdout",
     "output_type": "stream",
     "text": [
      "=================================\n",
      "  Task 2e:  QDA (with ML inference)\n",
      "   the (training) accuracy for this model with   20 samples is:  0.900 (overall)\n",
      "   the (training) accuracy for this model with  200 samples is:  0.850 (overall)\n"
     ]
    }
   ],
   "source": [
    "print(\"=================================\")\n",
    "print(\"  Task 2e:  QDA (with ML inference)\")\n",
    "\n",
    "for data, subplotaxis in zip(ds,axesList):\n",
    "    clf = QDA_bin_2D()\n",
    "    X = data.get_X_merged()\n",
    "    y = data.get_y_merged()\n",
    "    clf.fit(X,y)\n",
    "    y_hat = clf.predict(X)\n",
    "    data.reportAccuracy(y_hat)"
   ]
  },
  {
   "cell_type": "markdown",
   "metadata": {},
   "source": [
    "# Problem 3"
   ]
  },
  {
   "cell_type": "code",
   "execution_count": 9,
   "metadata": {},
   "outputs": [],
   "source": [
    "import pystan"
   ]
  },
  {
   "cell_type": "markdown",
   "metadata": {},
   "source": [
    "## LDA Model with Stan\n",
    "(i.e. same covariance for both classes' likelihood)"
   ]
  },
  {
   "cell_type": "code",
   "execution_count": 10,
   "metadata": {},
   "outputs": [
    {
     "name": "stderr",
     "output_type": "stream",
     "text": [
      "INFO:pystan:COMPILING THE C++ CODE FOR MODEL anon_model_d63e45cd01664476418ac6b8bee25f0a NOW.\n"
     ]
    }
   ],
   "source": [
    "mdl_stan_LDA_code = \"\"\"\n",
    "    data {\n",
    "      int<lower=1> N_po; // num of samples with          \n",
    "      int<lower=1> N_ng;          \n",
    "      int<lower=1> Dim;          \n",
    "      vector[Dim] x_po[N_po];          \n",
    "      vector[Dim] x_ng[N_ng];          \n",
    "    }\n",
    "    parameters {\n",
    "      vector[Dim] mu_1;             \n",
    "      vector[Dim] mu_2;             \n",
    "      \n",
    "      cov_matrix[Dim] sigma;\n",
    "    }\n",
    "    model {\n",
    "      \n",
    "      // prior\n",
    "      mu_1 ~ normal(0, 2);\n",
    "      mu_2 ~ normal(0, 2);\n",
    "      \n",
    "      // likelihood functions\n",
    "      x_po ~ multi_normal(mu_1, sigma);\n",
    "      x_ng ~ multi_normal(mu_2, sigma);\n",
    "    }\n",
    "    \"\"\"\n",
    "\n",
    "# compile the model ...\n",
    "mdl_stan_LDA = pystan.StanModel(model_code=mdl_stan_LDA_code)"
   ]
  },
  {
   "cell_type": "code",
   "execution_count": 21,
   "metadata": {},
   "outputs": [
    {
     "name": "stdout",
     "output_type": "stream",
     "text": [
      "=================================\n",
      "  Task 3:  LDA (with stan)\n",
      "   the (training) accuracy for this model with   20 samples is:  0.900 (overall)\n",
      "   the (training) accuracy for this model with  200 samples is:  0.850 (overall)\n"
     ]
    }
   ],
   "source": [
    "# now fits to the datasets\n",
    "print(\"=================================\")\n",
    "print(\"  Task 3:  LDA (with stan)\")\n",
    "for data in ds:\n",
    "    fit = mdl_stan_LDA.sampling(data=data.genDictForStan())\n",
    "    paras = fit.extract()\n",
    "    predictor = QDA_bin_2D(\\\n",
    "                    mean_plus =paras['mu_1'].mean(axis = 0), \\\n",
    "                    mean_neg=paras['mu_2'].mean(axis = 0),\\\n",
    "                    cov_plus=paras['sigma'].mean(axis = 0), \\\n",
    "                    cov_neg =paras['sigma'].mean(axis = 0)\\\n",
    "                )\n",
    "    y_hat = predictor.predict(data.get_X_merged())\n",
    "    data.reportAccuracy(y_hat)"
   ]
  },
  {
   "cell_type": "markdown",
   "metadata": {},
   "source": [
    "## QDA Model with Stan"
   ]
  },
  {
   "cell_type": "code",
   "execution_count": 12,
   "metadata": {},
   "outputs": [
    {
     "name": "stderr",
     "output_type": "stream",
     "text": [
      "INFO:pystan:COMPILING THE C++ CODE FOR MODEL anon_model_c5a81fcd0d710540de15e036a0ca41b9 NOW.\n"
     ]
    }
   ],
   "source": [
    "mdl_stan_QDA_code = \"\"\"\n",
    "    data {\n",
    "      int<lower=1> N_po; // num of samples with          \n",
    "      int<lower=1> N_ng;          \n",
    "      int<lower=1> Dim;          \n",
    "      vector[Dim] x_po[N_po];          \n",
    "      vector[Dim] x_ng[N_ng];          \n",
    "    }\n",
    "    parameters {\n",
    "      vector[Dim] mu_1;             \n",
    "      vector[Dim] mu_2;             \n",
    "      \n",
    "      cov_matrix[Dim] sigma_1;\n",
    "      cov_matrix[Dim] sigma_2;\n",
    "    }\n",
    "    model {\n",
    "      \n",
    "      // prior\n",
    "      mu_1 ~ normal(0, 2);\n",
    "      mu_2 ~ normal(0, 2);\n",
    "      \n",
    "      // likelihood functions\n",
    "      x_po ~ multi_normal(mu_1, sigma_1);\n",
    "      x_ng ~ multi_normal(mu_2, sigma_2);\n",
    "    }\n",
    "    \"\"\"\n",
    "# compile the model ...\n",
    "mdl_stan_QDA = pystan.StanModel(model_code=mdl_stan_QDA_code)"
   ]
  },
  {
   "cell_type": "code",
   "execution_count": 22,
   "metadata": {},
   "outputs": [
    {
     "name": "stdout",
     "output_type": "stream",
     "text": [
      "=================================\n",
      "  Task 3:  QDA (with stan)\n",
      "   the (training) accuracy for this model with   20 samples is:  0.900 (overall)\n",
      "   the (training) accuracy for this model with  200 samples is:  0.850 (overall)\n"
     ]
    }
   ],
   "source": [
    "# now fits to the datasets\n",
    "print(\"=================================\")\n",
    "print(\"  Task 3:  QDA (with stan)\")\n",
    "for data in ds:\n",
    "    fit = mdl_stan_QDA.sampling(data=data.genDictForStan())\n",
    "    paras = fit.extract()\n",
    "    predictor = QDA_bin_2D(\\\n",
    "                    mean_plus =paras['mu_1'].mean(axis = 0), \\\n",
    "                    mean_neg=paras['mu_2'].mean(axis = 0),\\\n",
    "                    cov_plus=paras['sigma_1'].mean(axis = 0), \\\n",
    "                    cov_neg =paras['sigma_2'].mean(axis = 0)\\\n",
    "                )\n",
    "    y_hat = predictor.predict(data.get_X_merged())\n",
    "    data.reportAccuracy(y_hat)"
   ]
  },
  {
   "cell_type": "code",
   "execution_count": null,
   "metadata": {},
   "outputs": [],
   "source": []
  }
 ],
 "metadata": {
  "kernelspec": {
   "display_name": "Python 3",
   "language": "python",
   "name": "python3"
  },
  "language_info": {
   "codemirror_mode": {
    "name": "ipython",
    "version": 3
   },
   "file_extension": ".py",
   "mimetype": "text/x-python",
   "name": "python",
   "nbconvert_exporter": "python",
   "pygments_lexer": "ipython3",
   "version": "3.7.4"
  }
 },
 "nbformat": 4,
 "nbformat_minor": 4
}
